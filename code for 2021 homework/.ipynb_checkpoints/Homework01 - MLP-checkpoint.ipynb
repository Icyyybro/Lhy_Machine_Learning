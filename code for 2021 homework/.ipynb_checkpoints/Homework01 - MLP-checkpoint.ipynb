{
 "cells": [
  {
   "cell_type": "code",
   "execution_count": 2,
   "id": "e2f0a4e7",
   "metadata": {},
   "outputs": [],
   "source": [
    "# PyTorch\n",
    "import torch\n",
    "import torch.nn as nn\n",
    "from torch.utils.data import Dataset, DataLoader\n",
    "\n",
    "# For data preprocess\n",
    "import numpy as np\n",
    "import csv\n",
    "import os\n",
    "\n",
    "# For plotting\n",
    "import matplotlib.pyplot as plt\n",
    "from matplotlib.pyplot import figure\n",
    "\n",
    "# 使用指定的种子，使网络初始化的参数固定。\n",
    "myseed = 42069\n",
    "# 强制CUDNN使用确定性的算法，这意味着当你在 GPU 上运行相同的输入数据和相同的模型时，每次的结果都是相同的。\n",
    "torch.backends.cudnn.deterministic = True\n",
    "# uDNN 有一个自动优化机制，它会根据输入数据的大小和配置选择最优的算法来加速计算。\n",
    "# 当 benchmark 设置为 True 时，CuDNN 会运行一系列的算法并选择最快的那个。\n",
    "# 这个过程会导致运行时的变动，特别是当输入数据的形状变化时，每次选择的算法可能不同，从而导致结果的不一致。\n",
    "torch.backends.cudnn.benchmark = False\n",
    "np.random.seed(myseed)\n",
    "torch.manual_seed(myseed)\n",
    "if torch.cuda.is_available():\n",
    "    torch.cuda.manual_seed_all(myseed)"
   ]
  },
  {
   "cell_type": "markdown",
   "id": "7697614e",
   "metadata": {},
   "source": [
    "# 工具函数"
   ]
  },
  {
   "cell_type": "code",
   "execution_count": 3,
   "id": "44747bf7",
   "metadata": {},
   "outputs": [],
   "source": [
    "def get_device():\n",
    "    ''' Get device (if GPU is available, use GPU) '''\n",
    "    # 检查当前环境中是否有可用的 GPU\n",
    "    # 如果有 GPU 则返回 'cuda'，否则返回 'cpu'\n",
    "    return 'cuda' if torch.cuda.is_available() else 'cpu'\n",
    "\n",
    "\n",
    "def plot_learning_curve(loss_record, title=''):\n",
    "    ''' Plot learning curve of your DNN (train & dev loss) '''\n",
    "    # 计算训练集的总步数（即训练过程中记录的损失值的数量）\n",
    "    total_steps = len(loss_record['train'])\n",
    "    # 创建一个范围对象，表示训练步骤的范围\n",
    "    x_1 = range(total_steps)\n",
    "    # 根据训练集和验证集损失记录的长度比率，计算出验证集的 x 轴刻度\n",
    "    x_2 = x_1[::len(loss_record['train']) // len(loss_record['dev'])]\n",
    "    # 设置图表的大小为 6x4 英寸\n",
    "    figure(figsize=(6, 4))\n",
    "    # 绘制训练集的损失曲线，颜色为红色\n",
    "    plt.plot(x_1, loss_record['train'], c='tab:red', label='train')\n",
    "    # 绘制验证集的损失曲线，颜色为青色\n",
    "    plt.plot(x_2, loss_record['dev'], c='tab:cyan', label='dev')\n",
    "    # 设置 y 轴的范围为 [0.0, 5.0]\n",
    "    plt.ylim(0.0, 5.)\n",
    "    # 设置 x 轴标签为 \"Training steps\"\n",
    "    plt.xlabel('Training steps')\n",
    "    # 设置 y 轴标签为 \"MSE loss\"\n",
    "    plt.ylabel('MSE loss')\n",
    "    # 设置图表标题，可以指定模型的名称或其他说明\n",
    "    plt.title('Learning curve of {}'.format(title))\n",
    "    # 显示图例（即训练集和验证集的标签）\n",
    "    plt.legend()\n",
    "    # 显示绘制好的图表\n",
    "    plt.show()\n",
    "\n",
    "\n",
    "def plot_pred(dv_set, model, device, lim=35., preds=None, targets=None):\n",
    "    ''' Plot prediction of your DNN '''\n",
    "    # 如果没有提供预测值和目标值，则需要进行推理来获取它们\n",
    "    if preds is None or targets is None:\n",
    "        # 将模型设置为评估模式，以禁用 dropout 等影响推理的操作\n",
    "        model.eval()\n",
    "        # 初始化空列表，用于存储预测值和实际目标值\n",
    "        preds, targets = [], []\n",
    "        # 遍历验证集或测试集的数据\n",
    "        for x, y in dv_set:\n",
    "            # 将输入数据 x 和目标值 y 移动到指定的设备（CPU 或 GPU）\n",
    "            x, y = x.to(device), y.to(device)\n",
    "            # 在不计算梯度的上下文中进行推理\n",
    "            with torch.no_grad():\n",
    "                # 获取模型的预测值\n",
    "                pred = model(x)\n",
    "                # 将预测值添加到 preds 列表中，并将其移回 CPU\n",
    "                preds.append(pred.detach().cpu())\n",
    "                # 将实际目标值添加到 targets 列表中，并将其移回 CPU\n",
    "                targets.append(y.detach().cpu())\n",
    "        # 将所有批次的预测值和目标值连接起来，并转换为 NumPy 数组\n",
    "        preds = torch.cat(preds, dim=0).numpy()\n",
    "        targets = torch.cat(targets, dim=0).numpy()\n",
    "    # 设置图表的大小为 5x5 英寸\n",
    "    figure(figsize=(5, 5))\n",
    "    # 绘制预测值和实际目标值的散点图，点的颜色为红色，透明度为 0.5\n",
    "    plt.scatter(targets, preds, c='r', alpha=0.5)\n",
    "    # 绘制理想的预测线（即 y = x），颜色为蓝色\n",
    "    plt.plot([-0.2, lim], [-0.2, lim], c='b')\n",
    "    # 设置 x 轴的范围为 [-0.2, lim]\n",
    "    plt.xlim(-0.2, lim)\n",
    "    # 设置 y 轴的范围为 [-0.2, lim]\n",
    "    plt.ylim(-0.2, lim)\n",
    "    # 设置 x 轴标签为 \"ground truth value\"\n",
    "    plt.xlabel('ground truth value')\n",
    "    # 设置 y 轴标签为 \"predicted value\"\n",
    "    plt.ylabel('predicted value')\n",
    "    # 设置图表标题为 \"Ground Truth v.s. Prediction\"\n",
    "    plt.title('Ground Truth v.s. Prediction')\n",
    "    # 显示绘制好的图表\n",
    "    plt.show()\n"
   ]
  },
  {
   "cell_type": "markdown",
   "id": "416bf493",
   "metadata": {},
   "source": [
    "# 数据处理"
   ]
  },
  {
   "cell_type": "code",
   "execution_count": 5,
   "id": "738feee4",
   "metadata": {},
   "outputs": [],
   "source": [
    "import csv\n",
    "import numpy as np\n",
    "import torch\n",
    "from torch.utils.data import Dataset\n",
    "\n",
    "class COVID19Dataset(Dataset):\n",
    "    ''' Dataset for loading and preprocessing the COVID19 dataset '''\n",
    "\n",
    "    def __init__(self, path, mode='train', target_only=False):\n",
    "        ''' 初始化方法\n",
    "        Args:\n",
    "            path (str): 数据文件的路径\n",
    "            mode (str): 数据集模式，可以是 'train', 'dev' 或 'test'\n",
    "            target_only (bool): 是否只使用目标变量\n",
    "        '''\n",
    "        self.mode = mode\n",
    "\n",
    "        # 读取数据到 numpy 数组中\n",
    "        with open(path, 'r') as fp:\n",
    "            data = list(csv.reader(fp))\n",
    "            # 读取文件中的数据，将其转换为 numpy 数组\n",
    "            # 先选中第二行到最后一行，转化为numpy\n",
    "            # 然后选择所有行，和第二列到最后一列的数据转化为float\n",
    "            data = np.array(data[1:])[:, 1:].astype(float)\n",
    "        \n",
    "        if not target_only:\n",
    "            # 如果不是仅使用目标变量，则选择所有特征（假设有 93 个特征）\n",
    "            feats = list(range(93))\n",
    "        else:\n",
    "            # TODO: 使用 40 个州和 2 个测试阳性特征（索引 = 57 和 75）\n",
    "            # 如果只使用目标变量，则需要在这里完成\n",
    "            pass\n",
    "\n",
    "        if mode == 'test':\n",
    "            # 如果模式是测试，数据的形状为 893 x 93\n",
    "            # 选择所有特征\n",
    "            data = data[:, feats]\n",
    "            # 将数据转换为 PyTorch 浮点张量\n",
    "            self.data = torch.FloatTensor(data)\n",
    "        else:\n",
    "            # 如果模式是训练或验证\n",
    "            # 目标是数据的最后一列\n",
    "            target = data[:, -1]\n",
    "            # 选择所有特征\n",
    "            data = data[:, feats]\n",
    "            \n",
    "            # 将训练数据拆分为训练集和验证集\n",
    "            if mode == 'train':\n",
    "                # 训练集：选择所有的样本，但跳过每第 10 个样本\n",
    "                indices = [i for i in range(len(data)) if i % 10 != 0]\n",
    "            elif mode == 'dev':\n",
    "                # 验证集：选择每第 10 个样本\n",
    "                indices = [i for i in range(len(data)) if i % 10 == 0]\n",
    "            \n",
    "            # 将数据和目标转换为 PyTorch 浮点张量\n",
    "            self.data = torch.FloatTensor(data[indices])\n",
    "            self.target = torch.FloatTensor(target[indices])\n",
    "\n",
    "        # 对特征进行归一化\n",
    "        self.data[:, 40:] = \\\n",
    "            (self.data[:, 40:] - self.data[:, 40:].mean(dim=0, keepdim=True)) \\\n",
    "            / self.data[:, 40:].std(dim=0, keepdim=True)\n",
    "\n",
    "        # 保存数据的维度（特征数量）\n",
    "        self.dim = self.data.shape[1]\n",
    "\n",
    "        # 打印数据集的基本信息\n",
    "        print('Finished reading the {} set of COVID19 Dataset ({} samples found, each dim = {})'\n",
    "              .format(mode, len(self.data), self.dim))\n",
    "\n",
    "    def __getitem__(self, index):\n",
    "        ''' 返回指定索引的样本\n",
    "        Args:\n",
    "            index (int): 数据的索引\n",
    "        Returns:\n",
    "            tuple: 对于训练和验证模式，返回数据和目标；对于测试模式，仅返回数据\n",
    "        '''\n",
    "        if self.mode in ['train', 'dev']:\n",
    "            # 对于训练和验证模式，返回数据和目标\n",
    "            return self.data[index], self.target[index]\n",
    "        else:\n",
    "            # 对于测试模式，仅返回数据\n",
    "            return self.data[index]\n",
    "\n",
    "    def __len__(self):\n",
    "        ''' 返回数据集的大小\n",
    "        Returns:\n",
    "            int: 数据集中样本的数量\n",
    "        '''\n",
    "        return len(self.data)\n"
   ]
  },
  {
   "cell_type": "markdown",
   "id": "2d638b2c",
   "metadata": {},
   "source": [
    "# DataLoader"
   ]
  },
  {
   "cell_type": "code",
   "execution_count": 13,
   "id": "a9af0ff3",
   "metadata": {},
   "outputs": [],
   "source": [
    "def prep_dataloader(path, mode, batch_size, n_jobs=0, target_only=False):\n",
    "    ''' Generates a dataset, then is put into a dataloader. '''\n",
    "    dataset = COVID19Dataset(path, mode=mode, target_only=target_only)  # Construct dataset\n",
    "    dataloader = DataLoader(\n",
    "        dataset, batch_size,\n",
    "        shuffle=(mode == 'train'), drop_last=False,\n",
    "        num_workers=n_jobs, pin_memory=True)                            # Construct dataloader\n",
    "    return dataloader"
   ]
  },
  {
   "cell_type": "markdown",
   "id": "f1421a3f",
   "metadata": {},
   "source": [
    "# 模型"
   ]
  },
  {
   "cell_type": "code",
   "execution_count": 26,
   "id": "e630f3bf",
   "metadata": {},
   "outputs": [],
   "source": [
    "# swish激活函数\n",
    "class Swish(nn.Module):\n",
    "    def forward(self, x):\n",
    "        return x * torch.sigmoid(x)\n",
    "\n",
    "class NeuralNet(nn.Module):\n",
    "    ''' A simple fully-connected deep neural network '''\n",
    "    def __init__(self, input_dim):\n",
    "        super(NeuralNet, self).__init__()\n",
    "        \n",
    "        # 使用swish激活函数\n",
    "        self.swish1 = Swish()\n",
    "\n",
    "        # Define your neural network here\n",
    "        # TODO: How to modify this model to achieve better performance?\n",
    "        self.net = nn.Sequential(\n",
    "            nn.Linear(input_dim, config['hidden_dim_01']),\n",
    "            # nn.BatchNorm1d(config['hidden_dim_01']),\n",
    "            Swish(),\n",
    "            \n",
    "            nn.Linear(config['hidden_dim_01'], config['hidden_dim_02']),\n",
    "            # nn.BatchNorm1d(config['hidden_dim_02']),\n",
    "            Swish(),\n",
    "            \n",
    "            nn.Linear(config['hidden_dim_02'], config['hidden_dim_03']),\n",
    "            # nn.BatchNorm1d(config['hidden_dim_03']),\n",
    "            Swish(),\n",
    "            \n",
    "            nn.Linear(config['hidden_dim_03'], 1)\n",
    "        )\n",
    "\n",
    "        # Mean squared error loss\n",
    "        self.criterion = nn.MSELoss(reduction='mean')\n",
    "        \n",
    "\n",
    "    def forward(self, x):\n",
    "        ''' Given input of size (batch_size x input_dim), compute output of the network '''\n",
    "        # print(x.shape)\n",
    "        return self.net(x).squeeze(1)\n",
    "\n",
    "    def cal_loss(self, pred, target):\n",
    "        ''' Calculate loss '''\n",
    "        # TODO: you may implement L1/L2 regularization here\n",
    "        return self.criterion(pred, target)"
   ]
  },
  {
   "cell_type": "markdown",
   "id": "5c5d5c5c",
   "metadata": {},
   "source": [
    "# 训练"
   ]
  },
  {
   "cell_type": "code",
   "execution_count": 8,
   "id": "66120248",
   "metadata": {},
   "outputs": [],
   "source": [
    "def train(tr_set, dv_set, model, config, device):\n",
    "    ''' DNN training '''\n",
    "    \n",
    "    # 从配置字典中获取训练轮次\n",
    "    n_epochs = config['n_epochs']  # Maximum number of epochs\n",
    "\n",
    "    # 用于动态获取 PyTorch 的优化器类（例如 SGD 或 Adam），其名称从配置字典 config 中的 optimizer 键获取。\n",
    "    optimizer = getattr(torch.optim, config['optimizer'])(\n",
    "        model.parameters(), **config['optim_hparas'])\n",
    "\n",
    "    min_mse = 1000.\n",
    "    loss_record = {'train': [], 'dev': []}      # for recording training loss\n",
    "    # 初始化早停计数器：early_stop_cnt 用于记录验证损失在多少个周期内没有改善。若达到预设值，则停止训练以避免过拟合。\n",
    "    early_stop_cnt = 0\n",
    "    epoch = 0\n",
    "    while epoch < n_epochs:\n",
    "        model.train()                           # set model to training mode\n",
    "        for x, y in tr_set:                     # iterate through the dataloader\n",
    "            optimizer.zero_grad()               # set gradient to zero\n",
    "            x, y = x.to(device), y.to(device)   # move data to device (cpu/cuda)\n",
    "            pred = model(x)                     # forward pass (compute output)\n",
    "            mse_loss = model.cal_loss(pred, y)  # compute loss\n",
    "            mse_loss.backward()                 # compute gradient (backpropagation)\n",
    "            optimizer.step()                    # update model with optimizer\n",
    "            loss_record['train'].append(mse_loss.detach().cpu().item())\n",
    "\n",
    "        # After each epoch, test your model on the validation (development) set.\n",
    "        # 验证，dev函数在下面\n",
    "        dev_mse = dev(dv_set, model, device)\n",
    "        if dev_mse < min_mse:\n",
    "            # Save model if your model improved\n",
    "            min_mse = dev_mse\n",
    "            print('Saving model (epoch = {:4d}, loss = {:.4f})'\n",
    "                .format(epoch + 1, min_mse))\n",
    "            torch.save(model.state_dict(), config['save_path'])  # Save model to specified path\n",
    "            early_stop_cnt = 0\n",
    "        else:\n",
    "            early_stop_cnt += 1\n",
    "\n",
    "        epoch += 1\n",
    "        loss_record['dev'].append(dev_mse)\n",
    "        if early_stop_cnt > config['early_stop']:\n",
    "            # Stop training if your model stops improving for \"config['early_stop']\" epochs.\n",
    "            break\n",
    "\n",
    "    print('Finished training after {} epochs'.format(epoch))\n",
    "    return min_mse, loss_record"
   ]
  },
  {
   "cell_type": "markdown",
   "id": "d517f25a",
   "metadata": {},
   "source": [
    "# 验证函数"
   ]
  },
  {
   "cell_type": "code",
   "execution_count": 9,
   "id": "9ff41213",
   "metadata": {},
   "outputs": [],
   "source": [
    "def dev(dv_set, model, device):\n",
    "    model.eval()                                # set model to evalutation mode\n",
    "    total_loss = 0\n",
    "    for x, y in dv_set:                         # iterate through the dataloader\n",
    "        x, y = x.to(device), y.to(device)       # move data to device (cpu/cuda)\n",
    "        with torch.no_grad():                   # disable gradient calculation\n",
    "            pred = model(x)                     # forward pass (compute output)\n",
    "            mse_loss = model.cal_loss(pred, y)  # compute loss\n",
    "        total_loss += mse_loss.detach().cpu().item() * len(x)  # accumulate loss\n",
    "    total_loss = total_loss / len(dv_set.dataset)              # compute averaged loss\n",
    "\n",
    "    return total_loss"
   ]
  },
  {
   "cell_type": "markdown",
   "id": "6c549603",
   "metadata": {},
   "source": [
    "# 测试"
   ]
  },
  {
   "cell_type": "code",
   "execution_count": 10,
   "id": "10e57778",
   "metadata": {},
   "outputs": [],
   "source": [
    "def test(tt_set, model, device):\n",
    "    model.eval()                                # set model to evalutation mode\n",
    "    preds = []\n",
    "    for x in tt_set:                            # iterate through the dataloader\n",
    "        x = x.to(device)                        # move data to device (cpu/cuda)\n",
    "        with torch.no_grad():                   # disable gradient calculation\n",
    "            pred = model(x)                     # forward pass (compute output)\n",
    "            preds.append(pred.detach().cpu())   # collect prediction\n",
    "    preds = torch.cat(preds, dim=0).numpy()     # concatenate all predictions and convert to a numpy array\n",
    "    return preds"
   ]
  },
  {
   "cell_type": "markdown",
   "id": "401caade",
   "metadata": {},
   "source": [
    "# 配置参数"
   ]
  },
  {
   "cell_type": "code",
   "execution_count": 11,
   "id": "f48b8240",
   "metadata": {},
   "outputs": [],
   "source": [
    "device = get_device()                 # get the current available device ('cpu' or 'cuda')\n",
    "os.makedirs('models', exist_ok=True)  # The trained model will be saved to ./models/\n",
    "target_only = False                   # TODO: Using 40 states & 2 tested_positive features\n",
    "\n",
    "# TODO: How to tune these hyper-parameters to improve your model's performance?\n",
    "config = {\n",
    "    'n_epochs': 3000,                # maximum number of epochs\n",
    "    'batch_size': 270,               # mini-batch size for dataloader\n",
    "    'optimizer': 'SGD',              # optimization algorithm (optimizer in torch.optim)\n",
    "    'optim_hparas': {                # hyper-parameters for the optimizer (depends on which optimizer you are using)\n",
    "        'lr': 0.001,                 # learning rate of SGD\n",
    "        'momentum': 0.9              # momentum for SGD\n",
    "    },\n",
    "    'early_stop': 200,               # early stopping epochs (the number epochs since your model's last improvement)\n",
    "    'save_path': 'models/model.pth',  # your model will be saved here\n",
    "    \n",
    "    'hidden_dim_01': 64,\n",
    "    'hidden_dim_02': 32,\n",
    "    'hidden_dim_03': 16,\n",
    "}"
   ]
  },
  {
   "cell_type": "markdown",
   "id": "47ce31e3",
   "metadata": {},
   "source": [
    "# 加载数据"
   ]
  },
  {
   "cell_type": "code",
   "execution_count": 14,
   "id": "9d9d96dc",
   "metadata": {},
   "outputs": [
    {
     "name": "stdout",
     "output_type": "stream",
     "text": [
      "Finished reading the train set of COVID19 Dataset (2430 samples found, each dim = 93)\n",
      "Finished reading the dev set of COVID19 Dataset (270 samples found, each dim = 93)\n",
      "Finished reading the test set of COVID19 Dataset (893 samples found, each dim = 93)\n"
     ]
    }
   ],
   "source": [
    "tr_path = '../../2021ML作业数据/HW1/ml2021spring-hw1/covid.train.csv'\n",
    "tt_path = '../../2021ML作业数据/HW1/ml2021spring-hw1/covid.test.csv'\n",
    "tr_set = prep_dataloader(tr_path, 'train', config['batch_size'], target_only=target_only)\n",
    "dv_set = prep_dataloader(tr_path, 'dev', config['batch_size'], target_only=target_only)\n",
    "tt_set = prep_dataloader(tt_path, 'test', config['batch_size'], target_only=target_only)"
   ]
  },
  {
   "cell_type": "markdown",
   "id": "02fb7e57",
   "metadata": {},
   "source": [
    "# 开始训练"
   ]
  },
  {
   "cell_type": "code",
   "execution_count": 27,
   "id": "423dea55",
   "metadata": {},
   "outputs": [
    {
     "name": "stdout",
     "output_type": "stream",
     "text": [
      "Saving model (epoch =    1, loss = 280.4663)\n",
      "Saving model (epoch =    2, loss = 205.2166)\n",
      "Saving model (epoch =    3, loss = 63.6762)\n",
      "Saving model (epoch =    4, loss = 16.9391)\n",
      "Saving model (epoch =    5, loss = 13.1214)\n",
      "Saving model (epoch =    6, loss = 8.4506)\n",
      "Saving model (epoch =    7, loss = 3.6264)\n",
      "Saving model (epoch =    8, loss = 2.7197)\n",
      "Saving model (epoch =    9, loss = 1.7732)\n",
      "Saving model (epoch =   10, loss = 1.4656)\n",
      "Saving model (epoch =   11, loss = 1.3056)\n",
      "Saving model (epoch =   12, loss = 1.2747)\n",
      "Saving model (epoch =   13, loss = 1.2333)\n",
      "Saving model (epoch =   14, loss = 1.1992)\n",
      "Saving model (epoch =   15, loss = 1.1821)\n",
      "Saving model (epoch =   16, loss = 1.1673)\n",
      "Saving model (epoch =   18, loss = 1.1483)\n",
      "Saving model (epoch =   19, loss = 1.1164)\n",
      "Saving model (epoch =   20, loss = 1.1065)\n",
      "Saving model (epoch =   21, loss = 1.0821)\n",
      "Saving model (epoch =   23, loss = 1.0561)\n",
      "Saving model (epoch =   26, loss = 1.0283)\n",
      "Saving model (epoch =   29, loss = 1.0164)\n",
      "Saving model (epoch =   30, loss = 1.0127)\n",
      "Saving model (epoch =   32, loss = 1.0042)\n",
      "Saving model (epoch =   34, loss = 0.9825)\n",
      "Saving model (epoch =   39, loss = 0.9748)\n",
      "Saving model (epoch =   40, loss = 0.9700)\n",
      "Saving model (epoch =   41, loss = 0.9657)\n",
      "Saving model (epoch =   43, loss = 0.9432)\n",
      "Saving model (epoch =   48, loss = 0.9335)\n",
      "Saving model (epoch =   49, loss = 0.9236)\n",
      "Saving model (epoch =   52, loss = 0.9152)\n",
      "Saving model (epoch =   56, loss = 0.8982)\n",
      "Saving model (epoch =   66, loss = 0.8787)\n",
      "Saving model (epoch =   71, loss = 0.8770)\n",
      "Saving model (epoch =   76, loss = 0.8677)\n",
      "Saving model (epoch =   78, loss = 0.8579)\n",
      "Saving model (epoch =   89, loss = 0.8467)\n",
      "Saving model (epoch =   90, loss = 0.8450)\n",
      "Saving model (epoch =  102, loss = 0.8341)\n",
      "Saving model (epoch =  123, loss = 0.8319)\n",
      "Saving model (epoch =  124, loss = 0.8286)\n",
      "Saving model (epoch =  141, loss = 0.8143)\n",
      "Saving model (epoch =  171, loss = 0.8131)\n",
      "Saving model (epoch =  177, loss = 0.8049)\n",
      "Saving model (epoch =  231, loss = 0.7996)\n",
      "Saving model (epoch =  300, loss = 0.7928)\n",
      "Saving model (epoch =  479, loss = 0.7924)\n",
      "Saving model (epoch =  480, loss = 0.7877)\n",
      "Saving model (epoch =  550, loss = 0.7825)\n",
      "Saving model (epoch =  569, loss = 0.7806)\n",
      "Finished training after 770 epochs\n"
     ]
    }
   ],
   "source": [
    "model = NeuralNet(tr_set.dataset.dim).to(device)  # Construct model and move to device\n",
    "model_loss, model_loss_record = train(tr_set, dv_set, model, config, device)"
   ]
  },
  {
   "cell_type": "code",
   "execution_count": 28,
   "id": "6ecb94f8",
   "metadata": {},
   "outputs": [
    {
     "data": {
      "image/png": "[encoded data removed]",
      "text/plain": [
       "<Figure size 600x400 with 1 Axes>"
      ]
     },
     "metadata": {},
     "output_type": "display_data"
    }
   ],
   "source": [
    "plot_learning_curve(model_loss_record, title='deep model')"
   ]
  },
  {
   "cell_type": "markdown",
   "id": "e4c47fe4",
   "metadata": {},
   "source": [
    "# 预测"
   ]
  },
  {
   "cell_type": "code",
   "execution_count": 16,
   "id": "c06d03cd",
   "metadata": {},
   "outputs": [
    {
     "data": {
      "image/png": "[encoded data removed]",
      "text/plain": [
       "<Figure size 500x500 with 1 Axes>"
      ]
     },
     "metadata": {},
     "output_type": "display_data"
    }
   ],
   "source": [
    "del model\n",
    "model = NeuralNet(tr_set.dataset.dim).to(device)\n",
    "ckpt = torch.load(config['save_path'], map_location='cpu')  # Load your best model\n",
    "model.load_state_dict(ckpt)\n",
    "plot_pred(dv_set, model, device)  # Show prediction on the validation set"
   ]
  }
 ],
 "metadata": {
  "kernelspec": {
   "display_name": "Python 3 (ipykernel)",
   "language": "python",
   "name": "python3"
  },
  "language_info": {
   "codemirror_mode": {
    "name": "ipython",
    "version": 3
   },
   "file_extension": ".py",
   "mimetype": "text/x-python",
   "name": "python",
   "nbconvert_exporter": "python",
   "pygments_lexer": "ipython3",
   "version": "3.8.19"
  }
 },
 "nbformat": 4,
 "nbformat_minor": 5
}
